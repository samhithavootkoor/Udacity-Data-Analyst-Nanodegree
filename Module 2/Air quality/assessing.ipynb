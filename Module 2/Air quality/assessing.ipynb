{
 "cells": [
  {
   "cell_type": "markdown",
   "metadata": {
    "collapsed": true
   },
   "source": [
    "# Assessing\n",
    "Use the space below to explore `all_alpha_08.csv` and `all_alpha_18.csv` to answer the quiz questions below."
   ]
  },
  {
   "cell_type": "code",
   "execution_count": 4,
   "metadata": {},
   "outputs": [
    {
     "data": {
      "text/plain": [
       "((2404, 18), (1611, 18))"
      ]
     },
     "execution_count": 4,
     "metadata": {},
     "output_type": "execute_result"
    }
   ],
   "source": [
    "import pandas as pd\n",
    "df_08=pd.read_csv('all_alpha_08.csv')\n",
    "df_18=pd.read_csv('all_alpha_18.csv')\n",
    "df_08.shape,df_18.shape"
   ]
  },
  {
   "cell_type": "code",
   "execution_count": 7,
   "metadata": {},
   "outputs": [
    {
     "data": {
      "text/plain": [
       "(25, 0)"
      ]
     },
     "execution_count": 7,
     "metadata": {},
     "output_type": "execute_result"
    }
   ],
   "source": [
    "sum(df_08.duplicated()),sum(df_18.duplicated())"
   ]
  },
  {
   "cell_type": "code",
   "execution_count": 12,
   "metadata": {},
   "outputs": [
    {
     "data": {
      "text/plain": [
       "(Model                     0\n",
       " Displ                     0\n",
       " Cyl                     199\n",
       " Trans                   199\n",
       " Drive                    93\n",
       " Fuel                      0\n",
       " Sales Area                0\n",
       " Stnd                      0\n",
       " Underhood ID              0\n",
       " Veh Class                 0\n",
       " Air Pollution Score       0\n",
       " FE Calc Appr            199\n",
       " City MPG                199\n",
       " Hwy MPG                 199\n",
       " Cmb MPG                 199\n",
       " Unadj Cmb MPG           199\n",
       " Greenhouse Gas Score    199\n",
       " SmartWay                  0\n",
       " dtype: int64, Model                   0\n",
       " Displ                   2\n",
       " Cyl                     2\n",
       " Trans                   0\n",
       " Drive                   0\n",
       " Fuel                    0\n",
       " Cert Region             0\n",
       " Stnd                    0\n",
       " Stnd Description        0\n",
       " Underhood ID            0\n",
       " Veh Class               0\n",
       " Air Pollution Score     0\n",
       " City MPG                0\n",
       " Hwy MPG                 0\n",
       " Cmb MPG                 0\n",
       " Greenhouse Gas Score    0\n",
       " SmartWay                0\n",
       " Comb CO2                0\n",
       " dtype: int64)"
      ]
     },
     "execution_count": 12,
     "metadata": {},
     "output_type": "execute_result"
    }
   ],
   "source": [
    "df_08.isnull().sum(),df_18.isnull().sum() "
   ]
  },
  {
   "cell_type": "code",
   "execution_count": 17,
   "metadata": {},
   "outputs": [
    {
     "data": {
      "text/plain": [
       "(Model                    object\n",
       " Displ                   float64\n",
       " Cyl                      object\n",
       " Trans                    object\n",
       " Drive                    object\n",
       " Fuel                     object\n",
       " Sales Area               object\n",
       " Stnd                     object\n",
       " Underhood ID             object\n",
       " Veh Class                object\n",
       " Air Pollution Score      object\n",
       " FE Calc Appr             object\n",
       " City MPG                 object\n",
       " Hwy MPG                  object\n",
       " Cmb MPG                  object\n",
       " Unadj Cmb MPG           float64\n",
       " Greenhouse Gas Score     object\n",
       " SmartWay                 object\n",
       " dtype: object, Model                    object\n",
       " Displ                   float64\n",
       " Cyl                     float64\n",
       " Trans                    object\n",
       " Drive                    object\n",
       " Fuel                     object\n",
       " Cert Region              object\n",
       " Stnd                     object\n",
       " Stnd Description         object\n",
       " Underhood ID             object\n",
       " Veh Class                object\n",
       " Air Pollution Score       int64\n",
       " City MPG                 object\n",
       " Hwy MPG                  object\n",
       " Cmb MPG                  object\n",
       " Greenhouse Gas Score      int64\n",
       " SmartWay                 object\n",
       " Comb CO2                 object\n",
       " dtype: object)"
      ]
     },
     "execution_count": 17,
     "metadata": {},
     "output_type": "execute_result"
    }
   ],
   "source": [
    "df_08.dtypes,df_18.dtypes"
   ]
  },
  {
   "cell_type": "code",
   "execution_count": 19,
   "metadata": {},
   "outputs": [
    {
     "data": {
      "text/plain": [
       "Model                   436\n",
       "Displ                    47\n",
       "Cyl                       8\n",
       "Trans                    14\n",
       "Drive                     2\n",
       "Fuel                      5\n",
       "Sales Area                3\n",
       "Stnd                     12\n",
       "Underhood ID            343\n",
       "Veh Class                 9\n",
       "Air Pollution Score      13\n",
       "FE Calc Appr              2\n",
       "City MPG                 39\n",
       "Hwy MPG                  43\n",
       "Cmb MPG                  38\n",
       "Unadj Cmb MPG           721\n",
       "Greenhouse Gas Score     20\n",
       "SmartWay                  2\n",
       "dtype: int64"
      ]
     },
     "execution_count": 19,
     "metadata": {},
     "output_type": "execute_result"
    }
   ],
   "source": [
    "df_08.nunique()"
   ]
  },
  {
   "cell_type": "code",
   "execution_count": 23,
   "metadata": {},
   "outputs": [
    {
     "data": {
      "text/plain": [
       "Model                   367\n",
       "Displ                    36\n",
       "Cyl                       7\n",
       "Trans                    26\n",
       "Drive                     2\n",
       "Fuel                      5\n",
       "Cert Region               2\n",
       "Stnd                     19\n",
       "Stnd Description         19\n",
       "Underhood ID            230\n",
       "Veh Class                 9\n",
       "Air Pollution Score       6\n",
       "City MPG                 58\n",
       "Hwy MPG                  62\n",
       "Cmb MPG                  57\n",
       "Greenhouse Gas Score     10\n",
       "SmartWay                  3\n",
       "Comb CO2                299\n",
       "dtype: int64"
      ]
     },
     "execution_count": 23,
     "metadata": {},
     "output_type": "execute_result"
    }
   ],
   "source": [
    "df_18.nunique()"
   ]
  },
  {
   "cell_type": "code",
   "execution_count": 31,
   "metadata": {},
   "outputs": [
    {
     "data": {
      "text/plain": [
       "(Fuel\n",
       " CNG               2\n",
       " Gasoline       2129\n",
       " diesel            7\n",
       " ethanol           1\n",
       " ethanol/gas      66\n",
       " Name: Cyl, dtype: int64, Fuel\n",
       " Diesel                    38\n",
       " Electricity                0\n",
       " Ethanol/Gas               55\n",
       " Gasoline                1492\n",
       " Gasoline/Electricity      24\n",
       " Name: Cyl, dtype: int64)"
      ]
     },
     "execution_count": 31,
     "metadata": {},
     "output_type": "execute_result"
    }
   ],
   "source": [
    "df_08.groupby('Fuel').Cyl.count(),df_18.groupby('Fuel').Cyl.count()\n"
   ]
  }
 ],
 "metadata": {
  "kernelspec": {
   "display_name": "Python 3",
   "language": "python",
   "name": "python3"
  },
  "language_info": {
   "codemirror_mode": {
    "name": "ipython",
    "version": 3
   },
   "file_extension": ".py",
   "mimetype": "text/x-python",
   "name": "python",
   "nbconvert_exporter": "python",
   "pygments_lexer": "ipython3",
   "version": "3.6.3"
  }
 },
 "nbformat": 4,
 "nbformat_minor": 2
}
